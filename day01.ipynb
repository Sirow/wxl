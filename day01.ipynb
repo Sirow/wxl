{
 "cells": [
  {
   "cell_type": "markdown",
   "metadata": {},
   "source": [
    "Task01：数组（1天）"
   ]
  },
  {
   "cell_type": "markdown",
   "metadata": {},
   "source": [
    "**理论部分：**\n",
    "1. 理解数组的存储与分类。\n",
    "2. 实现动态数组，该数组能够根据需要修改数组的长度。\n",
    "\n",
    "**练习部分：**  \n"
   ]
  },
  {
   "cell_type": "markdown",
   "metadata": {},
   "source": [
    "1.利用动态数组解决数据存放问题\n",
    "\n",
    "编写一段代码，要求输入一个整数N，用动态数组A来存放2~N之间所有5或7的倍数，输出该数组。\n",
    "\n",
    "示例：\n",
    "\n",
    "输入：\n",
    "N = 100 \n",
    "\n",
    "输出：\n",
    "5 7 10 14 15 20 21 25 28 30 35 40 42 45 49 50 55 56 60 63 65 70 75 77 80 84 85 90 91 95 98 100"
   ]
  },
  {
   "cell_type": "code",
   "execution_count": 52,
   "metadata": {},
   "outputs": [
    {
     "name": "stdout",
     "output_type": "stream",
     "text": [
      "请输入一个整数N:100\n",
      "5 7 10 14 15 20 21 25 28 30 35 40 42 45 49 50 55 56 60 63 65 70 75 77 80 84 85 90 91 95 98 100\n"
     ]
    }
   ],
   "source": [
    "num = int(input(\"请输入一个整数N:\"))\n",
    "A = [i for i in range(2,num+1) if (i%5 == 0)|(i%7==0)]\n",
    "print(\" \".join(str(i) for i in A))"
   ]
  },
  {
   "cell_type": "code",
   "execution_count": null,
   "metadata": {},
   "outputs": [],
   "source": []
  },
  {
   "cell_type": "markdown",
   "metadata": {},
   "source": [
    "2. 托普利茨矩阵问题\n",
    "\n",
    "如果一个矩阵的每一方向由左上到右下的对角线上具有相同元素，那么这个矩阵是托普利茨矩阵。\n",
    "\n",
    "给定一个M x N的矩阵，当且仅当它是托普利茨矩阵时返回True。  \n",
    "示例：\n",
    "输入:\n",
    "$matrix = [[1,2,3,4], \\\\  \n",
    "      \\qquad\\qquad[5,1,2,3], \\\\ \n",
    "      \\qquad\\qquad[9,5,1,2], \n",
    "     ]$\n",
    "\n",
    "输出: True\n",
    "\n",
    "解释:\n",
    "\n",
    "在上述矩阵中, 其对角线为: \"[9]\", \"[5, 5]\", \"[1, 1, 1]\", \"[2, 2, 2]\", \"[3, 3]\", \"[4]\"。 各条对角线上的所有元素均相同, 因此答案是True。"
   ]
  },
  {
   "cell_type": "code",
   "execution_count": 82,
   "metadata": {},
   "outputs": [],
   "source": [
    "def isToeplitzMatrix( matrix):\n",
    "        for i in range(len(matrix)-1):\n",
    "            if not matrix[i][:-1] == matrix[i+1][1:]:\n",
    "                return False\n",
    "        return True"
   ]
  },
  {
   "cell_type": "code",
   "execution_count": 83,
   "metadata": {},
   "outputs": [],
   "source": [
    "matrix = [\n",
    "  [1,2,3,4], \n",
    "  [5,1,2,3],  \n",
    "  [9,5,1,2]  \n",
    "]"
   ]
  },
  {
   "cell_type": "markdown",
   "metadata": {},
   "source": [
    "3. 三数之和\n",
    "\n",
    "https://leetcode-cn.com/problems/3sum/ \n",
    "\n",
    "给定一个包含 n 个整数的数组nums，判断nums中是否存在三个元素a，b，c，使得a + b + c = 0？找出所有满足条件且不重复的三元组。\n",
    "\n",
    "注意：答案中不可以包含重复的三元组。\n",
    "\n",
    "示例：\n",
    "\n",
    "给定数组 nums = [-1, 0, 1, 2, -1, -4]，\n",
    "\n",
    "满足要求的三元组集合为：\n",
    "$[\n",
    "  [-1, 0, 1],\\\\\n",
    "  [-1, -1, 2]]$"
   ]
  },
  {
   "cell_type": "code",
   "execution_count": 84,
   "metadata": {},
   "outputs": [],
   "source": [
    "class Solution:\n",
    "    def threeSum(self, nums):\n",
    "        \"\"\"\n",
    "        :type nums: List[int]\n",
    "        :rtype: List[List[int]]\n",
    "        \"\"\"\n",
    "        nums.sort()\n",
    "        count = len(nums)\n",
    "        collect = []\n",
    "        for i in range(count):\n",
    "            left = i+1\n",
    "            right = count-1\n",
    "            #避免重复找同一个数据\n",
    "            if i >0 and nums[i] == nums[i-1]:\n",
    "                left +=1\n",
    "                continue\n",
    "            #数据按小到大排列，每次选取nums[i]，在其后寻找符合a + b + c = 0的两个数据\n",
    "            while left < right:\n",
    "                sum = nums[i] + nums[left] + nums[right]\n",
    "                if sum == 0:\n",
    "                    col = [nums[i],nums[left],nums[right]]\n",
    "                    collect.append(col)\n",
    "                    left+=1\n",
    "                    right-=1\n",
    "                    #循环中nums[i]已确定，当再确定1个数时，另一个数也确定，左右端任一端出现重复均可跳过\n",
    "                    while nums[left] == nums[left-1] and left < right:\n",
    "                        left+=1\n",
    "                    while nums[right] == nums[right+1] and left < right:\n",
    "                        right-=1\n",
    "                if sum<0:\n",
    "                    left+=1\n",
    "                elif sum > 0:\n",
    "                    right-=1\n",
    "        return collect          "
   ]
  },
  {
   "cell_type": "code",
   "execution_count": null,
   "metadata": {},
   "outputs": [],
   "source": []
  },
  {
   "cell_type": "code",
   "execution_count": null,
   "metadata": {},
   "outputs": [],
   "source": []
  },
  {
   "cell_type": "code",
   "execution_count": null,
   "metadata": {},
   "outputs": [],
   "source": []
  },
  {
   "cell_type": "code",
   "execution_count": null,
   "metadata": {},
   "outputs": [],
   "source": []
  }
 ],
 "metadata": {
  "kernelspec": {
   "display_name": "Python 3",
   "language": "python",
   "name": "python3"
  },
  "language_info": {
   "codemirror_mode": {
    "name": "ipython",
    "version": 3
   },
   "file_extension": ".py",
   "mimetype": "text/x-python",
   "name": "python",
   "nbconvert_exporter": "python",
   "pygments_lexer": "ipython3",
   "version": "3.6.5"
  }
 },
 "nbformat": 4,
 "nbformat_minor": 2
}
